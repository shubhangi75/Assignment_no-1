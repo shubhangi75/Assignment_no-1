{
 "cells": [
  {
   "cell_type": "code",
   "execution_count": 3,
   "id": "e07b97bd-294b-4ed1-b259-37ef57b161fa",
   "metadata": {},
   "outputs": [
    {
     "name": "stdin",
     "output_type": "stream",
     "text": [
      "enetr units  320\n"
     ]
    },
    {
     "name": "stdout",
     "output_type": "stream",
     "text": [
      "total bill is = 2450\n"
     ]
    }
   ],
   "source": [
    "# program to generate electricity bill\n",
    "#The per-unit charges in rupees are as follows: For the first 100 units, the user will be charged Rs. 4.5 per\n",
    "#unit, for the next 100 units, the user will be charged Rs. 6 per unit, and for the next 100 units, the user will\n",
    "#be charged Rs. 10 per unit, After 300 units and above the user will be charged Rs. 20 per unit.\n",
    "#You are required to take the units of electricity consumed in a month from the user as input.\n",
    "#Your program must pass this test case: when the unit of electricity consumed by the user in a month is\n",
    "#310, the total electricity bill should be 2250.\n",
    "\n",
    "units= int(input(\"enetr units \")) \n",
    "\n",
    "if units <= 100 :\n",
    "    total= units *4.5 \n",
    "elif units<= 200 :\n",
    "    total = 450 +( units -100) * 6\n",
    "elif units <= 300 :\n",
    "    total= 450 +(200-100) *6 +(units -200) *10\n",
    "else:  \n",
    "   total = 450 + 600+ (300-200)*10 + (units-300)*20\n",
    "print(\"total bill is =\", total)"
   ]
  },
  {
   "cell_type": "code",
   "execution_count": null,
   "id": "001b955d-72d4-4fd9-9daa-539e051f6ba6",
   "metadata": {},
   "outputs": [],
   "source": []
  }
 ],
 "metadata": {
  "kernelspec": {
   "display_name": "Python 3 (ipykernel)",
   "language": "python",
   "name": "python3"
  },
  "language_info": {
   "codemirror_mode": {
    "name": "ipython",
    "version": 3
   },
   "file_extension": ".py",
   "mimetype": "text/x-python",
   "name": "python",
   "nbconvert_exporter": "python",
   "pygments_lexer": "ipython3",
   "version": "3.10.8"
  }
 },
 "nbformat": 4,
 "nbformat_minor": 5
}
