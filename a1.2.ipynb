{
 "cells": [
  {
   "cell_type": "code",
   "execution_count": 15,
   "id": "17ffe12c-8270-4b39-a073-20391ddb6e06",
   "metadata": {},
   "outputs": [
    {
     "name": "stdin",
     "output_type": "stream",
     "text": [
      "enter the number 6\n"
     ]
    },
    {
     "name": "stdout",
     "output_type": "stream",
     "text": [
      "product of 6 is 720\n",
      "sum of  6 is 21\n"
     ]
    }
   ],
   "source": [
    "#Write a python program to print the sum and product of the first 10 natural numbers using for\n",
    "#and while loop.\n",
    "\n",
    "#usingfor loop\n",
    "num = int(input(\"enter the number\"))\n",
    "sum1 = 0\n",
    "product= 1\n",
    "for i in range(1, num+1) :\n",
    "    sum1=  sum1+i\n",
    "    product = product * i\n",
    "print(\"product of\", num , \"is\", product)\n",
    "print(\"sum of \",num ,\"is\" , sum1)"
   ]
  },
  {
   "cell_type": "code",
   "execution_count": 14,
   "id": "f5e9aa00-0aed-40eb-a89d-ba1c2630c6b8",
   "metadata": {},
   "outputs": [
    {
     "name": "stdout",
     "output_type": "stream",
     "text": [
      "sum is = 55\n",
      "product is= 3628800\n"
     ]
    }
   ],
   "source": [
    "#using while loop\n",
    "num= 10\n",
    "initial =0\n",
    "counter = 1\n",
    "start1 = 1\n",
    "\n",
    "while counter <= num:\n",
    "    initial = counter + initial\n",
    "    start1= start1 * counter\n",
    "    counter = counter + 1 \n",
    "print(\"sum is =\",  initial)\n",
    "print(\"product is=\", start1)"
   ]
  },
  {
   "cell_type": "code",
   "execution_count": null,
   "id": "097ff300-86b0-49a4-b7e1-b56b7031f01c",
   "metadata": {},
   "outputs": [],
   "source": []
  }
 ],
 "metadata": {
  "kernelspec": {
   "display_name": "Python 3 (ipykernel)",
   "language": "python",
   "name": "python3"
  },
  "language_info": {
   "codemirror_mode": {
    "name": "ipython",
    "version": 3
   },
   "file_extension": ".py",
   "mimetype": "text/x-python",
   "name": "python",
   "nbconvert_exporter": "python",
   "pygments_lexer": "ipython3",
   "version": "3.10.8"
  }
 },
 "nbformat": 4,
 "nbformat_minor": 5
}
