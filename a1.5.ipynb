{
 "cells": [
  {
   "cell_type": "code",
   "execution_count": 7,
   "id": "5e6b71ad-3587-44ba-af0a-ec3498fe1a60",
   "metadata": {},
   "outputs": [
    {
     "name": "stdout",
     "output_type": "stream",
     "text": [
      "no. of vowels are= 12\n"
     ]
    }
   ],
   "source": [
    "#Write a program to filter count vowels in the below-given string.\n",
    "#string = \"I want to become a data scientist\"\n",
    "str = \"i want to become a data scientist\"\n",
    "count = 0\n",
    "for i in range(len(str)) :\n",
    "    if str[i]=='a' or str[i]=='e' or str[i]== 'i' or str[i]=='o' or str[i]== 'u' :\n",
    "        count = count +1\n",
    "print(\"no. of vowels are=\", count)"
   ]
  },
  {
   "cell_type": "code",
   "execution_count": null,
   "id": "4c5acb9d-411e-4324-9798-eb3ee8758db6",
   "metadata": {},
   "outputs": [],
   "source": []
  }
 ],
 "metadata": {
  "kernelspec": {
   "display_name": "Python 3 (ipykernel)",
   "language": "python",
   "name": "python3"
  },
  "language_info": {
   "codemirror_mode": {
    "name": "ipython",
    "version": 3
   },
   "file_extension": ".py",
   "mimetype": "text/x-python",
   "name": "python",
   "nbconvert_exporter": "python",
   "pygments_lexer": "ipython3",
   "version": "3.10.8"
  }
 },
 "nbformat": 4,
 "nbformat_minor": 5
}
